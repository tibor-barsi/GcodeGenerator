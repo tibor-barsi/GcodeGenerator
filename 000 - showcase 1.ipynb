{
 "cells": [
  {
   "cell_type": "code",
   "execution_count": 1,
   "metadata": {},
   "outputs": [],
   "source": [
    "import numpy as np\n",
    "from gcode_generator import G_code_generator\n",
    "from tool_changer_functions import save_params, load_params, printer_start, load_tool, unload_tool, tool_change, take_photo, play_sound, printer_stop"
   ]
  },
  {
   "cell_type": "code",
   "execution_count": 2,
   "metadata": {},
   "outputs": [],
   "source": [
    "# import printing params\n",
    "printing_params = load_params('printing_params/TPU_default.json')"
   ]
  },
  {
   "cell_type": "code",
   "execution_count": 3,
   "metadata": {},
   "outputs": [],
   "source": [
    "# create g-code generator object\n",
    "gen = G_code_generator(printing_params=printing_params)"
   ]
  },
  {
   "cell_type": "code",
   "execution_count": 4,
   "metadata": {},
   "outputs": [
    {
     "name": "stdout",
     "output_type": "stream",
     "text": [
      "G0 X0.000 Y0.000 Z0.400 E0.0 F30000 ; move over print point\n",
      "G0 X0.000 Y0.000 Z0.200 E0.0 F6000 ; lower Z\n",
      "G1 E3.00000 F900 ; unretract\n",
      "G1 X10.000 Y10.000 E0.39333 F1200 ; print a single line\n",
      "G1 E-3.00000 F900 ; retract\n",
      "G1 X8.939 Y8.939 F900 ; wipe 1\n",
      "G1 X10.000 Y10.000 F900 ; wipe 2\n",
      "G0 X10.000 Y10.000 Z0.400 E0.0 F6000 ; lift Z\n",
      "\n"
     ]
    }
   ],
   "source": [
    "# print a single line\n",
    "point0 = [0, 0]\n",
    "point1 = [10, 10]\n",
    "z = 0.2 # the height of the nozzle\n",
    "extrude_factor = 1\n",
    "speed_factor = 1\n",
    "comment = 'print a single line'\n",
    "\n",
    "g_code1 = gen.print_line(\n",
    "    point0=point0,\n",
    "    point1=point1,\n",
    "    z=z,\n",
    "    extrude_factor=extrude_factor,\n",
    "    speed_factor=speed_factor,\n",
    "    comment=comment)\n",
    "\n",
    "print(g_code1)"
   ]
  },
  {
   "cell_type": "code",
   "execution_count": 6,
   "metadata": {},
   "outputs": [
    {
     "name": "stdout",
     "output_type": "stream",
     "text": [
      "G0 X0.000 Y0.000 Z0.200 E0.0 F30000 ; move over print point\n",
      "G0 X0.000 Y0.000 Z0.000 E0.0 F6000 ; lower Z\n",
      "G1 X10.000 Y10.000 Z10.000 E0.48173 F1200 ; print a single line in 3D space\n",
      "\n"
     ]
    }
   ],
   "source": [
    "# print a line without wipe, retract and unretract in 3D space\n",
    "point0 = [0, 0, 0]\n",
    "point1 = [10, 10, 10]\n",
    "extrude_factor = 1\n",
    "speed_factor = 1\n",
    "comment = 'print a single line in 3D space'\n",
    "\n",
    "g_code2 = gen._print_line(\n",
    "    point0=point0,\n",
    "    point1=point1,\n",
    "    extrude_factor=extrude_factor,\n",
    "    speed_factor=speed_factor,\n",
    "    comment=comment)\n",
    "\n",
    "print(g_code2)"
   ]
  },
  {
   "cell_type": "code",
   "execution_count": 7,
   "metadata": {},
   "outputs": [
    {
     "name": "stdout",
     "output_type": "stream",
     "text": [
      "G0 X0.000 Y0.000 Z0.400 E0.0 F30000 ; move over print point\n",
      "G0 X0.000 Y0.000 Z0.200 E0.0 F6000 ; lower Z\n",
      "G1 E3.00000 F900 ; unretract\n",
      "G1 X10.000 Y10.000 E0.39333 F1200 ; print connected lines\n",
      "G1 X20.000 Y0.000 E0.39333 F1200 ; print connected lines\n",
      "G1 X30.000 Y10.000 E0.39333 F1200 ; print connected lines\n",
      "G1 X20.000 Y-20.000 E0.87951 F1200 ; print connected lines\n",
      "G1 E-3.00000 F900 ; retract\n",
      "G1 X20.474 Y-18.577 F900 ; wipe 1\n",
      "G1 X20.000 Y-20.000 F900 ; wipe 2\n",
      "G0 X20.000 Y-20.000 Z0.400 E0.0 F6000 ; lift Z\n",
      "\n"
     ]
    }
   ],
   "source": [
    "# create a sample of points for extruded traces\n",
    "line_points = np.array([\n",
    "    [[0,0],[10,10]],\n",
    "    [[10,10],[20,0]],\n",
    "    [[20,0],[30,10]],\n",
    "    [[30,10],[20,-20]]\n",
    "])\n",
    "\n",
    "g_code3 = gen.print_connected_lines(lines=line_points, z=0.2, extrude_factor=1, speed_factor=1, comment='print connected lines')\n",
    "print(g_code3)"
   ]
  },
  {
   "cell_type": "code",
   "execution_count": null,
   "metadata": {},
   "outputs": [],
   "source": []
  }
 ],
 "metadata": {
  "kernelspec": {
   "display_name": "gcode_gen",
   "language": "python",
   "name": "python3"
  },
  "language_info": {
   "codemirror_mode": {
    "name": "ipython",
    "version": 3
   },
   "file_extension": ".py",
   "mimetype": "text/x-python",
   "name": "python",
   "nbconvert_exporter": "python",
   "pygments_lexer": "ipython3",
   "version": "3.9.16"
  },
  "orig_nbformat": 4
 },
 "nbformat": 4,
 "nbformat_minor": 2
}
