{
 "cells": [
  {
   "cell_type": "code",
   "execution_count": 4,
   "id": "7824f232",
   "metadata": {},
   "outputs": [],
   "source": [
    "import numpy as np\n",
    "import matplotlib.pyplot as plt\n",
    "%matplotlib inline"
   ]
  },
  {
   "cell_type": "code",
   "execution_count": 5,
   "id": "c3bd971b",
   "metadata": {},
   "outputs": [],
   "source": [
    "from gcode_generator import G_code_generator\n",
    "from gcode_functions import get_print_limits\n",
    "from plotting_functions import plot_defined_regions\n",
    "from tool_changer_functions import (\n",
    "    save_params, \n",
    "    load_params, \n",
    "    printer_start, \n",
    "    load_tool, \n",
    "    unload_tool, \n",
    "    tool_change, \n",
    "    take_photo, \n",
    "    play_sound, \n",
    "    printer_stop)"
   ]
  },
  {
   "cell_type": "markdown",
   "id": "ab110c71",
   "metadata": {},
   "source": [
    "# Defining materials, parameter, dimensions"
   ]
  },
  {
   "cell_type": "code",
   "execution_count": 31,
   "id": "82e79b6d",
   "metadata": {},
   "outputs": [],
   "source": [
    "print_params = {\n",
    "    'PLA': load_params('printing_params/PLA_default.json'),\n",
    "    'TPU': load_params('printing_params/TPU_default.json'),\n",
    "}"
   ]
  },
  {
   "cell_type": "code",
   "execution_count": 41,
   "id": "35ca7d60",
   "metadata": {},
   "outputs": [],
   "source": [
    "# g-code generators\n",
    "gen_PLA = G_code_generator(print_params['PLA'])\n",
    "gen_TPU = G_code_generator(print_params['TPU'])"
   ]
  },
  {
   "cell_type": "markdown",
   "id": "aacf2a11",
   "metadata": {},
   "source": [
    "## Defining regions"
   ]
  },
  {
   "cell_type": "code",
   "execution_count": 43,
   "id": "15e28ec6",
   "metadata": {},
   "outputs": [],
   "source": [
    "regions = {\n",
    "    'PLA': {\n",
    "        'layer': 1,\n",
    "        'z_height': None,\n",
    "        'region_type': 'surface',\n",
    "        'material': 'conductive',\n",
    "        'position': [155, 120],\n",
    "        'dimensions': [20, 20],\n",
    "        'start_pos': ['x1', 'y1'],\n",
    "        'infill_angle': 0,\n",
    "        'perimeter': True,\n",
    "        'overlap_factor': 0.25,\n",
    "        'speed_factor': 1.0,\n",
    "        'extrude_factor': 1.0,\n",
    "        'heading': 'PLA surface'        \n",
    "    },\n",
    "    'TPU': {\n",
    "        'layer': 2,\n",
    "        'z_height': None,\n",
    "        'region_type': 'surface',\n",
    "        'material': 'piezoelectric',\n",
    "        'position': [157.5, 122.5],\n",
    "        'dimensions':  [15, 15],\n",
    "        'start_pos': ['x1', 'y1'],\n",
    "        'infill_angle': 90,\n",
    "        'perimeter': False,\n",
    "        'overlap_factor': 0.25,\n",
    "        'speed_factor': 1.0,\n",
    "        'extrude_factor': 1.0,\n",
    "        'heading': 'TPU surface'          \n",
    "    }\n",
    "}"
   ]
  },
  {
   "cell_type": "markdown",
   "id": "695f7dd4",
   "metadata": {},
   "source": [
    "**Plotting regions**"
   ]
  },
  {
   "cell_type": "code",
   "execution_count": 44,
   "id": "6a4433d0",
   "metadata": {},
   "outputs": [
    {
     "data": {
      "image/png": "[encoded data removed]",
      "text/plain": [
       "<Figure size 1200x400 with 3 Axes>"
      ]
     },
     "metadata": {},
     "output_type": "display_data"
    }
   ],
   "source": [
    "fig, axes = plt.subplots(1, 3, sharex=True, sharey=True, figsize=(12, 4))\n",
    "plot_defined_regions(fig, axes[0], regions, layer=1)\n",
    "plot_defined_regions(fig, axes[1], regions, layer=2)\n",
    "plot_defined_regions(fig, axes[2], regions, layer=(1,2))\n",
    "# axes[0].set_xlim(0, 300)\n",
    "# axes[0].set_ylim(0, 200)\n",
    "plt.tight_layout()"
   ]
  },
  {
   "cell_type": "markdown",
   "id": "a5f607f2",
   "metadata": {},
   "source": [
    "## Printer settings"
   ]
  },
  {
   "cell_type": "code",
   "execution_count": 45,
   "id": "e15ee578",
   "metadata": {},
   "outputs": [
    {
     "data": {
      "text/plain": [
       "{'tools': {'PLA': 'T3', 'TPU': 'T1'},\n",
       " 'temps': {'PLA': [215, 200], 'TPU': [230, 180], 'bed': 60},\n",
       " 'cooling': {'PLA': 1, 'TPU': 0.3},\n",
       " 'prime_macro': {'PLA': 'prime', 'TPU': 'prime'},\n",
       " 'mesh_bed': {'X': [155.0, 175.0], 'Y': [120.0, 140.0], 'P': 5}}"
      ]
     },
     "execution_count": 45,
     "metadata": {},
     "output_type": "execute_result"
    }
   ],
   "source": [
    "print_limits = get_print_limits(regions)\n",
    "printer_settings = {\n",
    "    'tools': {\n",
    "        'PLA': 'T3',\n",
    "        'TPU': 'T1'\n",
    "    },\n",
    "    'temps': {\n",
    "        'PLA': None,\n",
    "        'TPU': None,\n",
    "        'bed': 60\n",
    "    },\n",
    "    'cooling':{\n",
    "        'PLA': None,\n",
    "        'TPU': None\n",
    "    },\n",
    "    'prime_macro': {\n",
    "        'PLA': 'prime',\n",
    "        'TPU': 'prime'\n",
    "    },\n",
    "    'mesh_bed': {\n",
    "        'X': [print_limits['x_min'], print_limits['x_max']],\n",
    "        'Y': [print_limits['y_min'], print_limits['y_max']],\n",
    "        'P': 5\n",
    "    }\n",
    "}\n",
    "\n",
    "for material, tool in printer_settings['tools'].items():\n",
    "    temps = [print_params[material]['T_nozzle'],\n",
    "             print_params[material]['T_nozzle_standby']]\n",
    "    printer_settings['temps'][material] = temps\n",
    "    cooling = print_params[material]['cooling']\n",
    "    printer_settings['cooling'][material] = cooling\n",
    "\n",
    "printer_settings"
   ]
  },
  {
   "cell_type": "markdown",
   "id": "d2455e46",
   "metadata": {},
   "source": [
    "# G-code generation"
   ]
  },
  {
   "cell_type": "markdown",
   "id": "0bd4add1",
   "metadata": {},
   "source": [
    "**Printer start**"
   ]
  },
  {
   "cell_type": "code",
   "execution_count": 46,
   "id": "4e5fe534",
   "metadata": {},
   "outputs": [],
   "source": [
    "g_code = printer_start(printer_settings)\n",
    "# print(g_code)"
   ]
  },
  {
   "cell_type": "markdown",
   "id": "c97acc36",
   "metadata": {},
   "source": [
    "**Loading tool**"
   ]
  },
  {
   "cell_type": "code",
   "execution_count": 47,
   "id": "4bfbfbc7",
   "metadata": {},
   "outputs": [],
   "source": [
    "g_code += load_tool(\n",
    "    material='PLA',\n",
    "    printer_settings=printer_settings\n",
    ")"
   ]
  },
  {
   "cell_type": "markdown",
   "id": "660b67a3",
   "metadata": {},
   "source": [
    "**Printing first region - conductive**"
   ]
  },
  {
   "cell_type": "code",
   "execution_count": 48,
   "id": "805ff48e",
   "metadata": {},
   "outputs": [],
   "source": [
    "g_code += '; print surface - conductive - start\\n'\n",
    "g_code += gen_PLA.print_region(regions['PLA'])\n",
    "g_code += '; print surface - conductive - end\\n\\n'"
   ]
  },
  {
   "cell_type": "markdown",
   "id": "0aea86ee",
   "metadata": {},
   "source": [
    "**Tool change**"
   ]
  },
  {
   "cell_type": "code",
   "execution_count": 49,
   "id": "92885559",
   "metadata": {},
   "outputs": [],
   "source": [
    "g_code += tool_change(\n",
    "    current_material='PLA', \n",
    "    next_material='TPU',\n",
    "    printer_settings=printer_settings\n",
    ")"
   ]
  },
  {
   "cell_type": "markdown",
   "id": "0df8d16e",
   "metadata": {},
   "source": [
    "**Printing second region - PVDF**"
   ]
  },
  {
   "cell_type": "code",
   "execution_count": 50,
   "id": "e9e4dec3",
   "metadata": {},
   "outputs": [],
   "source": [
    "g_code += '; print surface - piezoelectric - start\\n'\n",
    "g_code += gen_TPU.print_region(regions['TPU'])\n",
    "g_code += '; print surface - piezoelectric - end\\n\\n'"
   ]
  },
  {
   "cell_type": "markdown",
   "id": "ea0e2d25",
   "metadata": {},
   "source": [
    "**Unload tool**"
   ]
  },
  {
   "cell_type": "code",
   "execution_count": 51,
   "id": "2cc97b58",
   "metadata": {},
   "outputs": [],
   "source": [
    "g_code += unload_tool(\n",
    "    material='TPU',\n",
    "    printer_settings=printer_settings\n",
    ")"
   ]
  },
  {
   "cell_type": "markdown",
   "id": "753bb1e5",
   "metadata": {},
   "source": [
    "**Printer stop**"
   ]
  },
  {
   "cell_type": "code",
   "execution_count": 52,
   "id": "16a7cdd2",
   "metadata": {},
   "outputs": [],
   "source": [
    "g_code += printer_stop()"
   ]
  },
  {
   "cell_type": "code",
   "execution_count": 53,
   "id": "5211410b",
   "metadata": {},
   "outputs": [
    {
     "name": "stdout",
     "output_type": "stream",
     "text": [
      "; --- Printer start g-code - start\n",
      "T3 P0 ; activating tool T3\n",
      "T1 P0 ; activating tool T1\n",
      "T-1 P0 ; clear tool selection\n",
      "\n",
      "G10 P3 S215 ; set tool 3 extruder temp\n",
      "G10 P3 R200 ; set tool 3 idle temp\n",
      "G10 P1 S230 ; set tool 1 extruder temp\n",
      "G10 P1 R180 ; set tool 1 idle temp\n",
      "M302 S120 ; set cold extrusion limit\n",
      "M140 S60 ; set bed temp\n",
      "M190 S60 ; wait for bed temp\n",
      "\n",
      "T-1 ; clear tool selection\n",
      "G28 ; home all\n",
      "M557 X155.0:175.0 Y120.0:140.0 P5 ; mesh bed leveling\n",
      "G29 ; probe the bed, save the height map, and activate bed compensation\n",
      "G21 ; set units to millimeters\n",
      "G90 ; use absolute coordinates\n",
      "M83 ; use relative distances for extrusion\n",
      "T-1 ; clear tool selection\n",
      "; --- Printer start g-code - end\n",
      "\n",
      "; --- Tool load: T3 : PLA - start\n",
      "T-1 ; clear tool selection\n",
      "T3 ; load tool\n",
      "M116 P3 ; wait for extruder to reach temp.\n",
      "M106 P8 S1 ; turn on PCF for mounted tool\n",
      "M98 P\"prime.g\" ; prime extruder\n",
      "; --- Tool load: T3 - end\n",
      "\n",
      "; print surface - conductive - start\n",
      "G0 X174.790 Y139.790 Z0.400 E0.0 F30000 ; move over print point\n",
      "G0 X174.790 Y139.790 Z0.200 E0.0 F6000 ; lower Z\n",
      "G1 E0.80000 F1200 ; unretract\n",
      "G1 X155.210 Y139.790 E0.58322 F2400 ; PLA surface - perimeter\n",
      "G1 X155.210 Y120.210 E0.58322 F2400 ; PLA surface - perimeter\n",
      "G1 X174.790 Y120.210 E0.58322 F2400 ; PLA surface - perimeter\n",
      "G1 X174.790 Y139.790 E0.58322 F2400 ; PLA surface - perimeter\n",
      "G1 E-0.80000 F1200 ; retract\n",
      "G1 X174.790 Y138.290 F1200 ; wipe 1\n",
      "G1 X174.790 Y139.790 F1200 ; wipe 2\n",
      "G0 X174.790 Y139.790 Z0.400 E0.0 F6000 ; lift Z\n",
      "G0 X174.475 Y139.400 Z0.400 E0.0 F30000 ; move over print point\n",
      "G0 X174.475 Y139.400 Z0.200 E0.0 F6000 ; lower Z\n",
      "G1 E0.80000 F1200 ; unretract\n",
      "G1 X155.525 Y139.400 E0.56446 F2400 ; PLA surface - infill\n",
      "G1 X155.525 Y139.000 E0.01191 F2400 ; PLA surface - infill\n",
      "G1 X174.475 Y139.000 E0.56446 F2400 ; PLA surface - infill\n",
      "G1 X174.475 Y138.600 E0.01191 F2400 ; PLA surface - infill\n",
      "G1 X155.525 Y138.600 E0.56446 F2400 ; PLA surface - infill\n",
      "G1 X155.525 Y138.200 E0.01191 F2400 ; PLA surface - infill\n",
      "G1 X174.475 Y138.200 E0.56446 F2400 ; PLA surface - infill\n",
      "G1 X174.475 Y137.800 E0.01191 F2400 ; PLA surface - infill\n",
      "G1 X155.525 Y137.800 E0.56446 F2400 ; PLA surface - infill\n",
      "G1 X155.525 Y137.400 E0.01191 F2400 ; PLA surface - infill\n",
      "G1 X174.475 Y137.400 E0.56446 F2400 ; PLA surface - infill\n",
      "G1 X174.475 Y137.000 E0.01191 F2400 ; PLA surface - infill\n",
      "G1 X155.525 Y137.000 E0.56446 F2400 ; PLA surface - infill\n",
      "G1 X155.525 Y136.600 E0.01191 F2400 ; PLA surface - infill\n",
      "G1 X174.475 Y136.600 E0.56446 F2400 ; PLA surface - infill\n",
      "G1 X174.475 Y136.200 E0.01191 F2400 ; PLA surface - infill\n",
      "G1 X155.525 Y136.200 E0.56446 F2400 ; PLA surface - infill\n",
      "G1 X155.525 Y135.800 E0.01191 F2400 ; PLA surface - infill\n",
      "G1 X174.475 Y135.800 E0.56446 F2400 ; PLA surface - infill\n",
      "G1 X174.475 Y135.400 E0.01191 F2400 ; PLA surface - infill\n",
      "G1 X155.525 Y135.400 E0.56446 F2400 ; PLA surface - infill\n",
      "G1 X155.525 Y135.000 E0.01191 F2400 ; PLA surface - infill\n",
      "G1 X174.475 Y135.000 E0.56446 F2400 ; PLA surface - infill\n",
      "G1 X174.475 Y134.600 E0.01191 F2400 ; PLA surface - infill\n",
      "G1 X155.525 Y134.600 E0.56446 F2400 ; PLA surface - infill\n",
      "G1 X155.525 Y134.200 E0.01191 F2400 ; PLA surface - infill\n",
      "G1 X174.475 Y134.200 E0.56446 F2400 ; PLA surface - infill\n",
      "G1 X174.475 Y133.800 E0.01191 F2400 ; PLA surface - infill\n",
      "G1 X155.525 Y133.800 E0.56446 F2400 ; PLA surface - infill\n",
      "G1 X155.525 Y133.400 E0.01191 F2400 ; PLA surface - infill\n",
      "G1 X174.475 Y133.400 E0.56446 F2400 ; PLA surface - infill\n",
      "G1 X174.475 Y133.000 E0.01191 F2400 ; PLA surface - infill\n",
      "G1 X155.525 Y133.000 E0.56446 F2400 ; PLA surface - infill\n",
      "G1 X155.525 Y132.600 E0.01191 F2400 ; PLA surface - infill\n",
      "G1 X174.475 Y132.600 E0.56446 F2400 ; PLA surface - infill\n",
      "G1 X174.475 Y132.200 E0.01191 F2400 ; PLA surface - infill\n",
      "G1 X155.525 Y132.200 E0.56446 F2400 ; PLA surface - infill\n",
      "G1 X155.525 Y131.800 E0.01191 F2400 ; PLA surface - infill\n",
      "G1 X174.475 Y131.800 E0.56446 F2400 ; PLA surface - infill\n",
      "G1 X174.475 Y131.400 E0.01191 F2400 ; PLA surface - infill\n",
      "G1 X155.525 Y131.400 E0.56446 F2400 ; PLA surface - infill\n",
      "G1 X155.525 Y131.000 E0.01191 F2400 ; PLA surface - infill\n",
      "G1 X174.475 Y131.000 E0.56446 F2400 ; PLA surface - infill\n",
      "G1 X174.475 Y130.600 E0.01191 F2400 ; PLA surface - infill\n",
      "G1 X155.525 Y130.600 E0.56446 F2400 ; PLA surface - infill\n",
      "G1 X155.525 Y130.200 E0.01191 F2400 ; PLA surface - infill\n",
      "G1 X174.475 Y130.200 E0.56446 F2400 ; PLA surface - infill\n",
      "G1 X174.475 Y129.800 E0.01191 F2400 ; PLA surface - infill\n",
      "G1 X155.525 Y129.800 E0.56446 F2400 ; PLA surface - infill\n",
      "G1 X155.525 Y129.400 E0.01191 F2400 ; PLA surface - infill\n",
      "G1 X174.475 Y129.400 E0.56446 F2400 ; PLA surface - infill\n",
      "G1 X174.475 Y129.000 E0.01191 F2400 ; PLA surface - infill\n",
      "G1 X155.525 Y129.000 E0.56446 F2400 ; PLA surface - infill\n",
      "G1 X155.525 Y128.600 E0.01191 F2400 ; PLA surface - infill\n",
      "G1 X174.475 Y128.600 E0.56446 F2400 ; PLA surface - infill\n",
      "G1 X174.475 Y128.200 E0.01191 F2400 ; PLA surface - infill\n",
      "G1 X155.525 Y128.200 E0.56446 F2400 ; PLA surface - infill\n",
      "G1 X155.525 Y127.800 E0.01191 F2400 ; PLA surface - infill\n",
      "G1 X174.475 Y127.800 E0.56446 F2400 ; PLA surface - infill\n",
      "G1 X174.475 Y127.400 E0.01191 F2400 ; PLA surface - infill\n",
      "G1 X155.525 Y127.400 E0.56446 F2400 ; PLA surface - infill\n",
      "G1 X155.525 Y127.000 E0.01191 F2400 ; PLA surface - infill\n",
      "G1 X174.475 Y127.000 E0.56446 F2400 ; PLA surface - infill\n",
      "G1 X174.475 Y126.600 E0.01191 F2400 ; PLA surface - infill\n",
      "G1 X155.525 Y126.600 E0.56446 F2400 ; PLA surface - infill\n",
      "G1 X155.525 Y126.200 E0.01191 F2400 ; PLA surface - infill\n",
      "G1 X174.475 Y126.200 E0.56446 F2400 ; PLA surface - infill\n",
      "G1 X174.475 Y125.800 E0.01191 F2400 ; PLA surface - infill\n",
      "G1 X155.525 Y125.800 E0.56446 F2400 ; PLA surface - infill\n",
      "G1 X155.525 Y125.400 E0.01191 F2400 ; PLA surface - infill\n",
      "G1 X174.475 Y125.400 E0.56446 F2400 ; PLA surface - infill\n",
      "G1 X174.475 Y125.000 E0.01191 F2400 ; PLA surface - infill\n",
      "G1 X155.525 Y125.000 E0.56446 F2400 ; PLA surface - infill\n",
      "G1 X155.525 Y124.600 E0.01191 F2400 ; PLA surface - infill\n",
      "G1 X174.475 Y124.600 E0.56446 F2400 ; PLA surface - infill\n",
      "G1 X174.475 Y124.200 E0.01191 F2400 ; PLA surface - infill\n",
      "G1 X155.525 Y124.200 E0.56446 F2400 ; PLA surface - infill\n",
      "G1 X155.525 Y123.800 E0.01191 F2400 ; PLA surface - infill\n",
      "G1 X174.475 Y123.800 E0.56446 F2400 ; PLA surface - infill\n",
      "G1 X174.475 Y123.400 E0.01191 F2400 ; PLA surface - infill\n",
      "G1 X155.525 Y123.400 E0.56446 F2400 ; PLA surface - infill\n",
      "G1 X155.525 Y123.000 E0.01191 F2400 ; PLA surface - infill\n",
      "G1 X174.475 Y123.000 E0.56446 F2400 ; PLA surface - infill\n",
      "G1 X174.475 Y122.600 E0.01191 F2400 ; PLA surface - infill\n",
      "G1 X155.525 Y122.600 E0.56446 F2400 ; PLA surface - infill\n",
      "G1 X155.525 Y122.200 E0.01191 F2400 ; PLA surface - infill\n",
      "G1 X174.475 Y122.200 E0.56446 F2400 ; PLA surface - infill\n",
      "G1 X174.475 Y121.800 E0.01191 F2400 ; PLA surface - infill\n",
      "G1 X155.525 Y121.800 E0.56446 F2400 ; PLA surface - infill\n",
      "G1 X155.525 Y121.400 E0.01191 F2400 ; PLA surface - infill\n",
      "G1 X174.475 Y121.400 E0.56446 F2400 ; PLA surface - infill\n",
      "G1 X174.475 Y121.000 E0.01191 F2400 ; PLA surface - infill\n",
      "G1 X155.525 Y121.000 E0.56446 F2400 ; PLA surface - infill\n",
      "G1 X155.525 Y120.600 E0.01191 F2400 ; PLA surface - infill\n",
      "G1 X174.475 Y120.600 E0.56446 F2400 ; PLA surface - infill\n",
      "G1 E-0.80000 F1200 ; retract\n",
      "G1 X172.975 Y120.600 F1200 ; wipe 1\n",
      "G1 X174.475 Y120.600 F1200 ; wipe 2\n",
      "G0 X174.475 Y120.600 Z0.400 E0.0 F6000 ; lift Z\n",
      "; print surface - conductive - end\n",
      "\n",
      "; --- Tool change: T3 -> T1 : PLA -> TPU - start\n",
      "; play sound\n",
      "M300 S1000 P1000\n",
      "G4 P500\n",
      "M300 S1000 P1000\n",
      "T-1 ; unload current tool\n",
      "M106 P8 S0 ; turn off fan for current tool\n",
      "T1 ; load next tool\n",
      "M116 P1 ; wait for extruder to reach temp.\n",
      "M106 P4 S0.3 ; turn on PCF for mounted tool\n",
      "M98 P\"prime.g\" ; prime extruder\n",
      "; --- Tool change: T3 -> T1 : PLA -> TPU - end\n",
      "\n",
      "; print surface - piezoelectric - start\n",
      "G0 X172.350 Y137.290 Z0.500 E0.0 F30000 ; move over print point\n",
      "G0 X172.350 Y137.290 Z0.300 E0.0 F6000 ; lower Z\n",
      "G1 E3.00000 F900 ; unretract\n",
      "G1 X172.350 Y122.710 E0.40551 F1200 ; TPU surface - infill\n",
      "G1 X171.930 Y122.710 E0.01168 F1200 ; TPU surface - infill\n",
      "G1 X171.930 Y137.290 E0.40551 F1200 ; TPU surface - infill\n",
      "G1 X171.510 Y137.290 E0.01168 F1200 ; TPU surface - infill\n",
      "G1 X171.510 Y122.710 E0.40551 F1200 ; TPU surface - infill\n",
      "G1 X171.090 Y122.710 E0.01168 F1200 ; TPU surface - infill\n",
      "G1 X171.090 Y137.290 E0.40551 F1200 ; TPU surface - infill\n",
      "G1 X170.670 Y137.290 E0.01168 F1200 ; TPU surface - infill\n",
      "G1 X170.670 Y122.710 E0.40551 F1200 ; TPU surface - infill\n",
      "G1 X170.250 Y122.710 E0.01168 F1200 ; TPU surface - infill\n",
      "G1 X170.250 Y137.290 E0.40551 F1200 ; TPU surface - infill\n",
      "G1 X169.830 Y137.290 E0.01168 F1200 ; TPU surface - infill\n",
      "G1 X169.830 Y122.710 E0.40551 F1200 ; TPU surface - infill\n",
      "G1 X169.410 Y122.710 E0.01168 F1200 ; TPU surface - infill\n",
      "G1 X169.410 Y137.290 E0.40551 F1200 ; TPU surface - infill\n",
      "G1 X168.990 Y137.290 E0.01168 F1200 ; TPU surface - infill\n",
      "G1 X168.990 Y122.710 E0.40551 F1200 ; TPU surface - infill\n",
      "G1 X168.570 Y122.710 E0.01168 F1200 ; TPU surface - infill\n",
      "G1 X168.570 Y137.290 E0.40551 F1200 ; TPU surface - infill\n",
      "G1 X168.150 Y137.290 E0.01168 F1200 ; TPU surface - infill\n",
      "G1 X168.150 Y122.710 E0.40551 F1200 ; TPU surface - infill\n",
      "G1 X167.730 Y122.710 E0.01168 F1200 ; TPU surface - infill\n",
      "G1 X167.730 Y137.290 E0.40551 F1200 ; TPU surface - infill\n",
      "G1 X167.310 Y137.290 E0.01168 F1200 ; TPU surface - infill\n",
      "G1 X167.310 Y122.710 E0.40551 F1200 ; TPU surface - infill\n",
      "G1 X166.890 Y122.710 E0.01168 F1200 ; TPU surface - infill\n",
      "G1 X166.890 Y137.290 E0.40551 F1200 ; TPU surface - infill\n",
      "G1 X166.470 Y137.290 E0.01168 F1200 ; TPU surface - infill\n",
      "G1 X166.470 Y122.710 E0.40551 F1200 ; TPU surface - infill\n",
      "G1 X166.050 Y122.710 E0.01168 F1200 ; TPU surface - infill\n",
      "G1 X166.050 Y137.290 E0.40551 F1200 ; TPU surface - infill\n",
      "G1 X165.630 Y137.290 E0.01168 F1200 ; TPU surface - infill\n",
      "G1 X165.630 Y122.710 E0.40551 F1200 ; TPU surface - infill\n",
      "G1 X165.210 Y122.710 E0.01168 F1200 ; TPU surface - infill\n",
      "G1 X165.210 Y137.290 E0.40551 F1200 ; TPU surface - infill\n",
      "G1 X164.790 Y137.290 E0.01168 F1200 ; TPU surface - infill\n",
      "G1 X164.790 Y122.710 E0.40551 F1200 ; TPU surface - infill\n",
      "G1 X164.370 Y122.710 E0.01168 F1200 ; TPU surface - infill\n",
      "G1 X164.370 Y137.290 E0.40551 F1200 ; TPU surface - infill\n",
      "G1 X163.950 Y137.290 E0.01168 F1200 ; TPU surface - infill\n",
      "G1 X163.950 Y122.710 E0.40551 F1200 ; TPU surface - infill\n",
      "G1 X163.530 Y122.710 E0.01168 F1200 ; TPU surface - infill\n",
      "G1 X163.530 Y137.290 E0.40551 F1200 ; TPU surface - infill\n",
      "G1 X163.110 Y137.290 E0.01168 F1200 ; TPU surface - infill\n",
      "G1 X163.110 Y122.710 E0.40551 F1200 ; TPU surface - infill\n",
      "G1 X162.690 Y122.710 E0.01168 F1200 ; TPU surface - infill\n",
      "G1 X162.690 Y137.290 E0.40551 F1200 ; TPU surface - infill\n",
      "G1 X162.270 Y137.290 E0.01168 F1200 ; TPU surface - infill\n",
      "G1 X162.270 Y122.710 E0.40551 F1200 ; TPU surface - infill\n",
      "G1 X161.850 Y122.710 E0.01168 F1200 ; TPU surface - infill\n",
      "G1 X161.850 Y137.290 E0.40551 F1200 ; TPU surface - infill\n",
      "G1 X161.430 Y137.290 E0.01168 F1200 ; TPU surface - infill\n",
      "G1 X161.430 Y122.710 E0.40551 F1200 ; TPU surface - infill\n",
      "G1 X161.010 Y122.710 E0.01168 F1200 ; TPU surface - infill\n",
      "G1 X161.010 Y137.290 E0.40551 F1200 ; TPU surface - infill\n",
      "G1 X160.590 Y137.290 E0.01168 F1200 ; TPU surface - infill\n",
      "G1 X160.590 Y122.710 E0.40551 F1200 ; TPU surface - infill\n",
      "G1 X160.170 Y122.710 E0.01168 F1200 ; TPU surface - infill\n",
      "G1 X160.170 Y137.290 E0.40551 F1200 ; TPU surface - infill\n",
      "G1 X159.750 Y137.290 E0.01168 F1200 ; TPU surface - infill\n",
      "G1 X159.750 Y122.710 E0.40551 F1200 ; TPU surface - infill\n",
      "G1 X159.330 Y122.710 E0.01168 F1200 ; TPU surface - infill\n",
      "G1 X159.330 Y137.290 E0.40551 F1200 ; TPU surface - infill\n",
      "G1 X158.910 Y137.290 E0.01168 F1200 ; TPU surface - infill\n",
      "G1 X158.910 Y122.710 E0.40551 F1200 ; TPU surface - infill\n",
      "G1 X158.490 Y122.710 E0.01168 F1200 ; TPU surface - infill\n",
      "G1 X158.490 Y137.290 E0.40551 F1200 ; TPU surface - infill\n",
      "G1 X158.070 Y137.290 E0.01168 F1200 ; TPU surface - infill\n",
      "G1 X158.070 Y122.710 E0.40551 F1200 ; TPU surface - infill\n",
      "G1 X157.650 Y122.710 E0.01168 F1200 ; TPU surface - infill\n",
      "G1 X157.650 Y137.290 E0.40551 F1200 ; TPU surface - infill\n",
      "G1 E-3.00000 F900 ; retract\n",
      "G1 X157.650 Y135.790 F900 ; wipe 1\n",
      "G1 X157.650 Y137.290 F900 ; wipe 2\n",
      "G0 X157.650 Y137.290 Z0.500 E0.0 F6000 ; lift Z\n",
      "; print surface - piezoelectric - end\n",
      "\n",
      "; --- Tool unload: T1 - start\n",
      "T-1 ; unload current tool\n",
      "M106 P4 S0 ; turn off PCF for dismounted tool\n",
      "; --- Tool unload: T1 - end\n",
      "\n",
      "; printer stop\n",
      "G91 ; use relative positioning\n",
      "G1 Z10 F1000 ; drop Bed 10mm\n",
      "G90 ; use absolute positioning\n",
      "T-1 ; unload tool\n",
      "M106 P8 S0 ; turn off PCF for mounted tool\n",
      "G29 S2 ; disable mesh compensation.\n",
      "G1 X-30 Y180 F10000 ; park gantry at back-left of machine\n",
      "M0 ; stop all\n",
      "; play sound\n",
      "M300 S1700 P1000\n",
      "G4 P300\n",
      "M300 S1700 P1000\n",
      "G4 P300\n",
      "M300 S1700 P1000\n",
      "G4 P300\n",
      "M300 S1700 P1000\n",
      "G4 P300\n",
      "M300 S1700 P1000\n",
      "G4 P300\n",
      "M300 S1700 P1000\n",
      "G4 P300\n",
      "M300 S1700 P1000\n",
      "G4 P300\n",
      "M300 S1700 P1000\n",
      "\n"
     ]
    }
   ],
   "source": [
    "print(g_code)"
   ]
  },
  {
   "cell_type": "markdown",
   "id": "b06ae33f",
   "metadata": {},
   "source": [
    "**Saving g-code**"
   ]
  },
  {
   "cell_type": "code",
   "execution_count": 55,
   "id": "7adea200",
   "metadata": {},
   "outputs": [],
   "source": [
    "filepath = 'generated_gcodes/test'\n",
    "with open(filepath + '.gcode', 'w') as f:\n",
    "    f.write(g_code)"
   ]
  },
  {
   "cell_type": "code",
   "execution_count": 56,
   "id": "24912be2",
   "metadata": {},
   "outputs": [],
   "source": [
    "from gcode_functions import process_g_code"
   ]
  },
  {
   "cell_type": "code",
   "execution_count": 57,
   "id": "e6204b94",
   "metadata": {},
   "outputs": [
    {
     "data": {
      "text/plain": [
       "{'print_time_hours': 0.03,\n",
       " 'print_time_mins': 1.94,\n",
       " 'print_time_sec': 116.43,\n",
       " 'all_extrusions_mm': 44.99,\n",
       " 'print_duration_sec': 54.87,\n",
       " 'only_extrusion_duration_sec': 0.56,\n",
       " 'tool_unloads_duration': 21,\n",
       " 'tool_loads_duration': 40}"
      ]
     },
     "execution_count": 57,
     "metadata": {},
     "output_type": "execute_result"
    }
   ],
   "source": [
    "process_g_code(filepath + '.gcode', tool_unload_time=3, tool_load_time=10)"
   ]
  },
  {
   "cell_type": "code",
   "execution_count": null,
   "id": "7ff62ef6",
   "metadata": {},
   "outputs": [],
   "source": []
  },
  {
   "cell_type": "code",
   "execution_count": null,
   "id": "e416c028",
   "metadata": {},
   "outputs": [],
   "source": []
  }
 ],
 "metadata": {
  "kernelspec": {
   "display_name": "Python 3 (ipykernel)",
   "language": "python",
   "name": "python3"
  },
  "language_info": {
   "codemirror_mode": {
    "name": "ipython",
    "version": 3
   },
   "file_extension": ".py",
   "mimetype": "text/x-python",
   "name": "python",
   "nbconvert_exporter": "python",
   "pygments_lexer": "ipython3",
   "version": "3.9.16"
  }
 },
 "nbformat": 4,
 "nbformat_minor": 5
}
